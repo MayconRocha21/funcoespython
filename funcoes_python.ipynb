{
 "cells": [
  {
   "cell_type": "markdown",
   "id": "cc4871b1",
   "metadata": {},
   "source": [
    "Algumas Funções Python que você deve saber na ponta da língua"
   ]
  },
  {
   "cell_type": "markdown",
   "id": "7ebf4aa5",
   "metadata": {},
   "source": [
    "👉 sorted()\n",
    "Ordena dados de forma simples—em ordem crescente ou decrescente! Ideal para organizar arrays ou encontrar medianas."
   ]
  },
  {
   "cell_type": "code",
   "execution_count": null,
   "id": "a354d628",
   "metadata": {
    "vscode": {
     "languageId": "plaintext"
    }
   },
   "outputs": [],
   "source": [
    "numeros = [8,7,3,4,5,6,7,9,8,1,2,4,5,7,8,9]\n",
    "ordenados = sorted(numeros,reverse=True)\n",
    "print(ordenados)"
   ]
  },
  {
   "cell_type": "markdown",
   "id": "0189504b",
   "metadata": {},
   "source": [
    "👉 zip()\n",
    "Agrupa dados como um verdadeiro profissional. Combine listas, tuplas ou iteráveis com facilidade."
   ]
  },
  {
   "cell_type": "code",
   "execution_count": null,
   "id": "541079fe",
   "metadata": {
    "vscode": {
     "languageId": "plaintext"
    }
   },
   "outputs": [],
   "source": [
    "nome = [\"Maycon\",\"Gabriel\",\"João\"]\n",
    "idade = [25,30,35]\n",
    "combinado = list(zip(nome,idade))\n",
    "print(combinado)"
   ]
  },
  {
   "cell_type": "markdown",
   "id": "7f21bdd1",
   "metadata": {},
   "source": [
    "👉 max() / min()\n",
    "Encontre rapidamente o maior ou menor elemento. Perfeito para problemas de otimização e manipulação de arrays."
   ]
  },
  {
   "cell_type": "code",
   "execution_count": null,
   "id": "38c1ae73",
   "metadata": {
    "vscode": {
     "languageId": "plaintext"
    }
   },
   "outputs": [],
   "source": [
    "valores = [234566,23405,35467,2457,23769,977635,2435645]\n",
    "print(min(valores))\n",
    "print(max(valores))"
   ]
  },
  {
   "cell_type": "markdown",
   "id": "33eddaf6",
   "metadata": {},
   "source": [
    "👉 enumerate()\n",
    "Percorra listas de forma inteligente! Acompanhe os índices sem precisar criar contadores manuais. Essencial para trabalhar com estruturas de dados."
   ]
  },
  {
   "cell_type": "code",
   "execution_count": null,
   "id": "8053e6d1",
   "metadata": {
    "vscode": {
     "languageId": "plaintext"
    }
   },
   "outputs": [],
   "source": [
    "lista = ['a','b','c','d','e','f','g','h','i','j','k','l','m','n']\n",
    "for indice, letras in enumerate(lista):\n",
    "    print(f\"indice: {indice} letra: {letras}\")"
   ]
  },
  {
   "cell_type": "markdown",
   "id": "d855785f",
   "metadata": {},
   "source": [
    "👉 map()\n",
    "Transforme coleções com elegância. Aplique funções a iteráveis em apenas uma linha de código."
   ]
  },
  {
   "cell_type": "code",
   "execution_count": null,
   "id": "bb1b7b06",
   "metadata": {
    "vscode": {
     "languageId": "plaintext"
    }
   },
   "outputs": [],
   "source": [
    "numeros = [1,2,3,4,5,6,7,8,9,10]\n",
    "quadrado = list(map(lambda x: x**2,numeros))\n",
    "print(quadrado)"
   ]
  },
  {
   "cell_type": "markdown",
   "id": "d8d20a9a",
   "metadata": {},
   "source": [
    "👉 itertools.combinations()\n",
    "Gere todos os subconjuntos ou combinações possíveis. Essencial para resolver problemas de combinações ou subconjuntos."
   ]
  },
  {
   "cell_type": "code",
   "execution_count": null,
   "id": "914ea6d4",
   "metadata": {
    "vscode": {
     "languageId": "plaintext"
    }
   },
   "outputs": [],
   "source": [
    "from itertools import combinations\n",
    "\n",
    "dados = [1,2,3,4]\n",
    "\n",
    "combinacoes = list(combinations(dados,2))\n",
    "print(combinacoes)"
   ]
  },
  {
   "cell_type": "markdown",
   "id": "f188540c",
   "metadata": {},
   "source": [
    "👉 collections.Counter()\n",
    "Conte frequências em questão de segundos. Ideal para histogramas ou rastrear ocorrências em dados."
   ]
  },
  {
   "cell_type": "code",
   "execution_count": null,
   "id": "684b00d1",
   "metadata": {
    "vscode": {
     "languageId": "plaintext"
    }
   },
   "outputs": [],
   "source": [
    "from collections import Counter\n",
    "frutas = ['maçã', 'banana', 'maçã', 'laranja', 'banana', 'maçã']\n",
    "contagem = Counter(frutas)\n",
    "print(contagem)\n",
    "# Saída: Counter({'maçã': 3, 'banana': 2, 'laranja': 1})"
   ]
  }
 ],
 "metadata": {
  "language_info": {
   "name": "python"
  }
 },
 "nbformat": 4,
 "nbformat_minor": 5
}
